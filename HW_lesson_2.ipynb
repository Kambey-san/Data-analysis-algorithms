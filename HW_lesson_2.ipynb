{
 "cells": [
  {
   "cell_type": "markdown",
   "id": "1eef5b78",
   "metadata": {},
   "source": [
    "### Урок 2. Масштабирование признаков. L1- и L2-регуляризация. Стохастический градиентный спуск"
   ]
  },
  {
   "cell_type": "code",
   "execution_count": 127,
   "id": "ab343165",
   "metadata": {
    "colab": {},
    "colab_type": "code",
    "id": "_u5bV-OlT34p"
   },
   "outputs": [],
   "source": [
    "import numpy as np\n",
    "import matplotlib.pyplot as plt"
   ]
  },
  {
   "cell_type": "code",
   "execution_count": 128,
   "id": "61145042",
   "metadata": {
    "colab": {},
    "colab_type": "code",
    "id": "_n6il-AZaLuA"
   },
   "outputs": [],
   "source": [
    "X = np.array([[   1,    1,  500,    1],\n",
    "              [   1,    1,  700,    1],\n",
    "              [   1,    2,  750,    2],\n",
    "              [   1,    5,  600,    1],\n",
    "              [   1,    3, 1450,    2],\n",
    "              [   1,    0,  800,    1],\n",
    "              [   1,    5, 1500,    3],\n",
    "              [   1,   10, 2000,    3],\n",
    "              [   1,    1,  450,    1],\n",
    "              [   1,    2, 1000,    2]])"
   ]
  },
  {
   "cell_type": "code",
   "execution_count": 129,
   "id": "6291e201",
   "metadata": {
    "colab": {},
    "colab_type": "code",
    "id": "x8yoci01ni-t"
   },
   "outputs": [],
   "source": [
    "y = [45, 55, 50, 55, 60, 35, 75, 80, 50, 60]"
   ]
  },
  {
   "cell_type": "markdown",
   "id": "ae8c96f4",
   "metadata": {},
   "source": [
    "## Домашнее задание <a class='anchor' id='hw'>"
   ]
  },
  {
   "cell_type": "markdown",
   "id": "ed590bf5",
   "metadata": {},
   "source": [
    "1. Постройте график зависимости весов всех признаков от lambda в самописной L2-регуляризации (на данных про ЕГЭ). Сделайте вывод"
   ]
  },
  {
   "cell_type": "code",
   "execution_count": 130,
   "id": "3b37ff37",
   "metadata": {},
   "outputs": [],
   "source": [
    "def gradient_descent_reg_l2(X, y, iterations, eta=1e-4, reg=1e-8):\n",
    "    W = np.random.randn(X.shape[1])\n",
    "    n = X.shape[0]\n",
    "    \n",
    "    for i in range(0, iterations):\n",
    "        y_pred = np.dot(X, W)\n",
    "        \n",
    "        dQ = 2/n * X.T @ (y_pred - y) # градиент функции ошибки\n",
    "        dReg = reg * W # градиент регуляризации\n",
    "        \n",
    "        W -= eta * (dQ + dReg)\n",
    "    return W\n",
    "\n",
    "def standard_scale(X):\n",
    "    mean = X.mean()\n",
    "    std = X.std()\n",
    "    return (X - mean) / std\n",
    "\n",
    "X_st = X.copy().astype(np.float64)\n",
    "X_st[:, 1] = standard_scale(X_st[:, 1])\n",
    "X_st[:, 2] = standard_scale(X_st[:, 2])\n",
    "X_st[:, 3] = standard_scale(X_st[:, 3])"
   ]
  },
  {
   "cell_type": "code",
   "execution_count": 131,
   "id": "b250767d",
   "metadata": {},
   "outputs": [],
   "source": [
    "regs = np.arange(0, 100, 2)\n",
    "array_W = [gradient_descent_reg_l2(X_st, y, iterations=1000, reg=reg) for reg in regs]"
   ]
  },
  {
   "cell_type": "code",
   "execution_count": 132,
   "id": "47ced7bc",
   "metadata": {},
   "outputs": [
    {
     "data": {
      "image/png": "[encoded data removed]",
      "text/plain": [
       "<Figure size 432x288 with 1 Axes>"
      ]
     },
     "metadata": {
      "needs_background": "light"
     },
     "output_type": "display_data"
    }
   ],
   "source": [
    "array_W = np.array(array_W)\n",
    "for i in range(array_W.shape[1]):\n",
    "    plt.plot(array_W[:, i], regs)"
   ]
  },
  {
   "cell_type": "markdown",
   "id": "951c5a3b",
   "metadata": {},
   "source": [
    "**Вывод:** *веса при увеличении коэффициента регуляризации становятся менее значимые и стремятся к нулю.*"
   ]
  },
  {
   "cell_type": "markdown",
   "id": "ff149556",
   "metadata": {},
   "source": [
    "2. Напишите функцию наподобие gradient_descent_reg_l2, но для применения L1-регуляризации."
   ]
  },
  {
   "cell_type": "code",
   "execution_count": 133,
   "id": "1c405cf5",
   "metadata": {},
   "outputs": [],
   "source": [
    "def der(x):\n",
    "    return x / abs(x)"
   ]
  },
  {
   "cell_type": "code",
   "execution_count": 134,
   "id": "24b52f43",
   "metadata": {},
   "outputs": [],
   "source": [
    "def gradient_descent_reg_l1(X, y, iterations, eta=1e-4, reg=1e-8):\n",
    "    W = np.random.randn(X.shape[1])\n",
    "    n = X.shape[0]\n",
    "    \n",
    "    for i in range(0, iterations):\n",
    "        y_pred = np.dot(X, W)\n",
    "        \n",
    "        dQ = 2/n * X.T @ (y_pred - y) \n",
    "        dReg = reg * der(W) \n",
    "        \n",
    "        W -= eta * (dQ + dReg)\n",
    "    return W"
   ]
  },
  {
   "cell_type": "code",
   "execution_count": 135,
   "id": "bab7f218",
   "metadata": {},
   "outputs": [],
   "source": [
    "regs = np.arange(0, 100, 2)\n",
    "array_W = [gradient_descent_reg_l1(X_st, y, iterations=1000, reg=reg) for reg in regs]"
   ]
  },
  {
   "cell_type": "code",
   "execution_count": 136,
   "id": "aeb233bf",
   "metadata": {},
   "outputs": [
    {
     "data": {
      "image/png": "[encoded data removed]",
      "text/plain": [
       "<Figure size 432x288 with 1 Axes>"
      ]
     },
     "metadata": {
      "needs_background": "light"
     },
     "output_type": "display_data"
    }
   ],
   "source": [
    "array_W = np.array(array_W)\n",
    "for i in range(array_W.shape[1]):\n",
    "    plt.plot(array_W[:, i], regs)"
   ]
  },
  {
   "cell_type": "markdown",
   "id": "2beb81c4",
   "metadata": {},
   "source": [
    "**Вывод:** *малые коэфициенты при L1 быстро стремятся к нулю в отличие от L2.*"
   ]
  },
  {
   "cell_type": "markdown",
   "id": "40905aa7",
   "metadata": {},
   "source": [
    "3. *Можно ли к одному и тому же признаку применить сразу и нормализацию, и стандартизацию?"
   ]
  },
  {
   "cell_type": "code",
   "execution_count": 137,
   "id": "31d22624",
   "metadata": {},
   "outputs": [],
   "source": [
    "from sklearn.preprocessing import normalize, StandardScaler"
   ]
  },
  {
   "cell_type": "code",
   "execution_count": 138,
   "id": "926f4b6b",
   "metadata": {},
   "outputs": [
    {
     "data": {
      "text/plain": [
       "array([[4, 0, 7],\n",
       "       [7, 0, 0],\n",
       "       [9, 9, 2]])"
      ]
     },
     "execution_count": 138,
     "metadata": {},
     "output_type": "execute_result"
    }
   ],
   "source": [
    "m = np.random.randint(10, size=(3, 3))\n",
    "m"
   ]
  },
  {
   "cell_type": "code",
   "execution_count": 139,
   "id": "6f01238c",
   "metadata": {},
   "outputs": [],
   "source": [
    "st_m = StandardScaler().fit_transform(m)\n",
    "norm_m = normalize(m)\n",
    "\n",
    "st_m_2 = StandardScaler().fit_transform(norm_m) # + обратное перобразование\n",
    "norm_m_2 = normalize(st_m)"
   ]
  },
  {
   "cell_type": "code",
   "execution_count": 140,
   "id": "dcdc84c0",
   "metadata": {},
   "outputs": [],
   "source": [
    "def mean_std(x):\n",
    "    means = np.mean(X, axis=0)\n",
    "    stds = np.std(X, axis=0)\n",
    "    display(means, stds)"
   ]
  },
  {
   "cell_type": "code",
   "execution_count": 141,
   "id": "9754cf5e",
   "metadata": {},
   "outputs": [
    {
     "data": {
      "text/plain": [
       "array([  1. ,   3. , 975. ,   1.7])"
      ]
     },
     "metadata": {},
     "output_type": "display_data"
    },
    {
     "data": {
      "text/plain": [
       "array([  0.        ,   2.82842712, 484.89689626,   0.78102497])"
      ]
     },
     "metadata": {},
     "output_type": "display_data"
    },
    {
     "data": {
      "text/plain": [
       "array([  1. ,   3. , 975. ,   1.7])"
      ]
     },
     "metadata": {},
     "output_type": "display_data"
    },
    {
     "data": {
      "text/plain": [
       "array([  0.        ,   2.82842712, 484.89689626,   0.78102497])"
      ]
     },
     "metadata": {},
     "output_type": "display_data"
    },
    {
     "data": {
      "text/plain": [
       "True"
      ]
     },
     "execution_count": 141,
     "metadata": {},
     "output_type": "execute_result"
    }
   ],
   "source": [
    "mean_std(st_m) == mean_std(st_m_2)"
   ]
  },
  {
   "cell_type": "code",
   "execution_count": 142,
   "id": "f6709b54",
   "metadata": {},
   "outputs": [
    {
     "data": {
      "text/plain": [
       "array([  1. ,   3. , 975. ,   1.7])"
      ]
     },
     "metadata": {},
     "output_type": "display_data"
    },
    {
     "data": {
      "text/plain": [
       "array([  0.        ,   2.82842712, 484.89689626,   0.78102497])"
      ]
     },
     "metadata": {},
     "output_type": "display_data"
    },
    {
     "data": {
      "text/plain": [
       "array([  1. ,   3. , 975. ,   1.7])"
      ]
     },
     "metadata": {},
     "output_type": "display_data"
    },
    {
     "data": {
      "text/plain": [
       "array([  0.        ,   2.82842712, 484.89689626,   0.78102497])"
      ]
     },
     "metadata": {},
     "output_type": "display_data"
    },
    {
     "data": {
      "text/plain": [
       "True"
      ]
     },
     "execution_count": 142,
     "metadata": {},
     "output_type": "execute_result"
    }
   ],
   "source": [
    "mean_std(norm_m_2) == mean_std(norm_m)"
   ]
  },
  {
   "cell_type": "markdown",
   "id": "8513b520",
   "metadata": {},
   "source": [
    "**Ответ:** *можно! При сравнении среднего и стандартного отклонений значения не изменяются. То же относится и к весам.*"
   ]
  },
  {
   "cell_type": "markdown",
   "id": "6e8145ad",
   "metadata": {
    "id": "osNM_LLkiqu6"
   },
   "source": [
    "4. *Сгенерируйте датасет при помощи <code>sklearn.datasets.make_regression</code> и обучите линейную модель при помощи градиентного и стохастического градиентного спуска. Нанесите среднеквадратичную ошибку для обоих методов на один график, сделайте выводы о разнице скорости сходимости каждого из методов."
   ]
  },
  {
   "cell_type": "code",
   "execution_count": 143,
   "id": "aab3d848",
   "metadata": {},
   "outputs": [],
   "source": [
    "from sklearn.datasets import make_regression"
   ]
  },
  {
   "cell_type": "code",
   "execution_count": 144,
   "id": "c3659b67",
   "metadata": {},
   "outputs": [],
   "source": [
    "regr = make_regression()\n",
    "\n",
    "def mserror(X, w, y_pred):\n",
    "    y = X.dot(w)\n",
    "    return (sum((y - y_pred)**2)) / len(y)"
   ]
  },
  {
   "cell_type": "code",
   "execution_count": 145,
   "id": "c70407ec",
   "metadata": {},
   "outputs": [],
   "source": [
    "n_features = 2 # - количество признаков\n",
    "n_objects = 1000 # - количество объектов\n",
    "\n",
    "eta = 0.05 # - шаг градиентного спуска\n",
    "\n",
    "max_iter = 1e3 # - максимальное число итераций\n",
    "\n",
    "min_weight_dist = 1e-6 # - критерий сходимости\n",
    "\n",
    "w = np.zeros(n_features) # - нулевые веса\n",
    "\n",
    "X, Y, coef = make_regression(n_samples=n_objects, n_features=n_features, n_informative=2, n_targets=1, \n",
    "                                      noise=5, coef=True, random_state=2)\n",
    "\n",
    "# GD:\n",
    "def gd(w, w_list, errors, weight_dist, iter_num, max_iter):\n",
    "    while weight_dist > min_weight_dist and iter_num < max_iter:\n",
    "        new_w = w - 2 * eta * np.dot(X.T, (np.dot(X, w) - Y)) / Y.shape[0]\n",
    "        weight_dist = np.linalg.norm(new_w - w, ord=2)\n",
    "\n",
    "        w_list.append(new_w.copy())\n",
    "        errors.append(mserror(X, new_w, Y))\n",
    "\n",
    "        iter_num += 1\n",
    "        w = new_w\n",
    "\n",
    "    iters_gd = iter_num\n",
    "    errors_gd = errors\n",
    "    w_list_gd = np.array(w_list)\n",
    "\n",
    "    return (iters_gd, errors_gd, w_list_gd)\n",
    "\n",
    "\n",
    "# SDG:\n",
    "def sgd(w, w_list, errors, weight_dist, iter_num, max_iter):\n",
    "    while weight_dist > min_weight_dist and iter_num < max_iter:\n",
    "\n",
    "        train_ind = np.random.randint(X.shape[0], size=1) # - генерация случайного индекса объекта выборки\n",
    "\n",
    "        y_pred = np.dot(X[train_ind], w)\n",
    "        new_w = w - eta * 2 / Y[train_ind].shape[0] * np.dot(X[train_ind].T, y_pred - Y[train_ind])\n",
    "\n",
    "        weight_dist = np.linalg.norm(new_w - w, ord=2)\n",
    "\n",
    "        error = mserror(X, new_w, Y)\n",
    "\n",
    "        w_list.append(new_w.copy())\n",
    "        errors.append(error)\n",
    "\n",
    "        iter_num += 1\n",
    "        w = new_w\n",
    "\n",
    "    iters_sgd = iter_num\n",
    "    errors_sgd = errors\n",
    "    w_list_sgd = np.array(w_list)\n",
    "    \n",
    "    return (iters_sgd, errors_sgd, w_list_sgd)"
   ]
  },
  {
   "cell_type": "code",
   "execution_count": 146,
   "id": "c6ff5ffd",
   "metadata": {},
   "outputs": [],
   "source": [
    "w_list = [w.copy()] # - список векторов весов после каждой итерации\n",
    "\n",
    "errors = [] # - значения ошибок после каждой итерации\n",
    "\n",
    "weight_dist = np.inf # - начальная разницу весов\n",
    "\n",
    "iter_num = 0 # - счетчик итераций\n",
    "\n",
    "iters_gd, errors_gd, w_list_gd = gd(w, w_list, errors, weight_dist, iter_num, max_iter)"
   ]
  },
  {
   "cell_type": "code",
   "execution_count": 147,
   "id": "4a7e114b",
   "metadata": {},
   "outputs": [],
   "source": [
    "w_list = [w.copy()]\n",
    "errors = []\n",
    "weight_dist = np.inf\n",
    "iter_num = 0\n",
    "w = np.zeros(n_features)\n",
    "\n",
    "iters_sgd, errors_sgd, w_list_sgd = sgd(w, w_list, errors, weight_dist, iter_num, max_iter)"
   ]
  },
  {
   "cell_type": "code",
   "execution_count": 148,
   "id": "eec357e1",
   "metadata": {},
   "outputs": [
    {
     "name": "stdout",
     "output_type": "stream",
     "text": [
      "Для достижения сходимости количество итераций при SGD ( 1000 ) превышает количество итераций при GD ( 161 ),\n",
      "что подтверждает гафик ниже...\n"
     ]
    }
   ],
   "source": [
    "if iters_sgd > iters_gd:\n",
    "    print('Для достижения сходимости количество итераций при SGD (', iters_sgd, ') превышает количество итераций при GD (', iters_gd,'),\\n' 'что подтверждает гафик ниже...')\n",
    "else: False"
   ]
  },
  {
   "cell_type": "code",
   "execution_count": 149,
   "id": "41f7b15b",
   "metadata": {
    "scrolled": true
   },
   "outputs": [
    {
     "data": {
      "image/png": "[encoded data removed]",
      "text/plain": [
       "<Figure size 864x432 with 1 Axes>"
      ]
     },
     "metadata": {
      "needs_background": "light"
     },
     "output_type": "display_data"
    }
   ],
   "source": [
    "plt.figure(figsize=(12, 6))\n",
    "plt.xlabel(r'iters')\n",
    "plt.ylabel(r'mse')\n",
    "x = range(iters_gd)\n",
    "delta = 30\n",
    "plt.plot(x[delta:], errors_gd[delta:], c='g')\n",
    "plt.plot(x[delta:], errors_sgd[delta:iters_gd], c='r')\n",
    "plt.show()"
   ]
  }
 ],
 "metadata": {
  "kernelspec": {
   "display_name": "Python 3 (ipykernel)",
   "language": "python",
   "name": "python3"
  },
  "language_info": {
   "codemirror_mode": {
    "name": "ipython",
    "version": 3
   },
   "file_extension": ".py",
   "mimetype": "text/x-python",
   "name": "python",
   "nbconvert_exporter": "python",
   "pygments_lexer": "ipython3",
   "version": "3.10.5"
  }
 },
 "nbformat": 4,
 "nbformat_minor": 5
}
