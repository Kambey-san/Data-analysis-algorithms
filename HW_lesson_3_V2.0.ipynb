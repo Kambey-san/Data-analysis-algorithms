{
 "cells": [
  {
   "cell_type": "markdown",
   "id": "c649b42f",
   "metadata": {
    "id": "jVKnqZEmWjr0"
   },
   "source": [
    "## Урок 3. Классификация. Логистическая регрессия."
   ]
  },
  {
   "cell_type": "markdown",
   "id": "a7d11c2d",
   "metadata": {},
   "source": [
    "### Домашнее задание"
   ]
  },
  {
   "cell_type": "code",
   "execution_count": 36,
   "id": "a9d91ad1",
   "metadata": {
    "colab": {},
    "colab_type": "code",
    "id": "zhwkeWtb1O0w"
   },
   "outputs": [],
   "source": [
    "import numpy as np\n",
    "import matplotlib.pyplot as plt"
   ]
  },
  {
   "cell_type": "code",
   "execution_count": 37,
   "id": "93576856",
   "metadata": {
    "colab": {},
    "colab_type": "code",
    "id": "FeKFn2yb1To4"
   },
   "outputs": [],
   "source": [
    "X = np.array([ [   1,    1,  500,    1],\n",
    "               [   1,    1,  700,    1],\n",
    "               [   1,    2,  750,    2],\n",
    "               [   1,    5,  600,    1],\n",
    "               [   1,    3, 1450,    2],\n",
    "               [   1,    0,  800,    1],\n",
    "               [   1,    5, 1500,    3],\n",
    "               [   1,   10, 2000,    3],\n",
    "               [   1,    1,  450,    1],\n",
    "               [   1,    2, 1000,    2]], dtype=np.float64)\n",
    "\n",
    "y = np.array([0, 0, 1, 0, 1, 0, 1, 0, 1, 1], dtype=np.float64)"
   ]
  },
  {
   "cell_type": "code",
   "execution_count": 38,
   "id": "b55bf3f3",
   "metadata": {},
   "outputs": [],
   "source": [
    "def standard_scale(x):\n",
    "    res = (x - x.mean()) / x.std()\n",
    "    return res"
   ]
  },
  {
   "cell_type": "code",
   "execution_count": 39,
   "id": "7bcf20e6",
   "metadata": {},
   "outputs": [],
   "source": [
    "def sigmoid(z):\n",
    "    res = 1 / (1 + np.exp(-z))\n",
    "    return res"
   ]
  },
  {
   "cell_type": "code",
   "execution_count": 40,
   "id": "82868bc1",
   "metadata": {},
   "outputs": [],
   "source": [
    "X_st = X.copy()\n",
    "X_st[:, 2] = standard_scale(X[:, 2])"
   ]
  },
  {
   "cell_type": "code",
   "execution_count": 41,
   "id": "77c0fa42",
   "metadata": {},
   "outputs": [],
   "source": [
    "import warnings\n",
    "warnings.filterwarnings('ignore')"
   ]
  },
  {
   "cell_type": "markdown",
   "id": "f4a8a43d",
   "metadata": {},
   "source": [
    "1. *Измените функцию calc_logloss так, чтобы нули по возможности не попадали в np.log."
   ]
  },
  {
   "cell_type": "code",
   "execution_count": 42,
   "id": "d6325dce",
   "metadata": {},
   "outputs": [],
   "source": [
    "def calc_logloss(y, y_pred, eps = 1e-9):\n",
    "    y_pred_new = y_pred.copy().astype(np.float64)\n",
    "    y_pred_new[y_pred_new==1] = 1 - 1e-9\n",
    "    y_pred_new[y_pred_new<=eps] = 1e-9\n",
    "    err = - np.mean(y * np.log(y_pred_new) + (1.0 - y) * np.log(1.0 - y_pred_new))\n",
    "    return err"
   ]
  },
  {
   "cell_type": "code",
   "execution_count": 43,
   "id": "5e27b1dc",
   "metadata": {
    "scrolled": true
   },
   "outputs": [
    {
     "data": {
      "text/plain": [
       "0.164252033486018"
      ]
     },
     "execution_count": 43,
     "metadata": {},
     "output_type": "execute_result"
    }
   ],
   "source": [
    "# Пример применения\n",
    "y1 = np.array([1, 0])\n",
    "y_pred1 = np.array([0.8, 0.1])\n",
    "calc_logloss(y1, y_pred1)"
   ]
  },
  {
   "cell_type": "code",
   "execution_count": 44,
   "id": "e681d98a",
   "metadata": {},
   "outputs": [
    {
     "data": {
      "text/plain": [
       "0.05268025832891313"
      ]
     },
     "execution_count": 44,
     "metadata": {},
     "output_type": "execute_result"
    }
   ],
   "source": [
    "# Пример c ошибкой\n",
    "y1 = np.array([1, 0])\n",
    "y_pred1 = np.array([1, 0.1])\n",
    "calc_logloss(y1, y_pred1)"
   ]
  },
  {
   "cell_type": "markdown",
   "id": "0b1ab223",
   "metadata": {},
   "source": [
    "2. Подберите аргументы функции eval_model для логистической регрессии таким образом, чтобы log loss был минимальным.\n"
   ]
  },
  {
   "cell_type": "code",
   "execution_count": 45,
   "id": "33f1b54f",
   "metadata": {},
   "outputs": [],
   "source": [
    "np.random.seed(42)\n",
    "\n",
    "def eval_model(X, y, iterations, eta):\n",
    "    W = np.random.randn(X.shape[1])\n",
    "    n = X.shape[0]\n",
    "    \n",
    "    for i in range(iterations):\n",
    "        z = np.dot(X, W)\n",
    "        y_pred = sigmoid(z)\n",
    "        err = calc_logloss(y, y_pred)\n",
    "        \n",
    "        dQ = 1/n * X.T @ (y_pred - y)\n",
    "        W -= eta * dQ\n",
    "    return [eta, iterations, W, err]"
   ]
  },
  {
   "cell_type": "code",
   "execution_count": 46,
   "id": "85fc9c2b",
   "metadata": {},
   "outputs": [],
   "source": [
    "etas = np.logspace(-5, 1, 7)\n",
    "iterations = np.arange(1000, 20000, 2000)"
   ]
  },
  {
   "cell_type": "code",
   "execution_count": 47,
   "id": "32303c8d",
   "metadata": {},
   "outputs": [
    {
     "data": {
      "text/plain": [
       "(array([1.e-05, 1.e-04, 1.e-03, 1.e-02, 1.e-01, 1.e+00, 1.e+01]),\n",
       " array([ 1000,  3000,  5000,  7000,  9000, 11000, 13000, 15000, 17000,\n",
       "        19000]))"
      ]
     },
     "execution_count": 47,
     "metadata": {},
     "output_type": "execute_result"
    }
   ],
   "source": [
    "etas, iterations"
   ]
  },
  {
   "cell_type": "code",
   "execution_count": 48,
   "id": "6db6b12f",
   "metadata": {},
   "outputs": [],
   "source": [
    "results = []\n",
    "for eta in etas:\n",
    "    for iteration in iterations:\n",
    "        results.append(eval_model(X_st, y, iteration, eta))"
   ]
  },
  {
   "cell_type": "code",
   "execution_count": 49,
   "id": "70a40153",
   "metadata": {},
   "outputs": [],
   "source": [
    "min = [None, None, None, np.inf]\n",
    "for result in results:\n",
    "    if result[3] < min[3]:\n",
    "        min = result\n",
    "        #print(result)"
   ]
  },
  {
   "cell_type": "code",
   "execution_count": 50,
   "id": "d28f7ca5",
   "metadata": {
    "scrolled": true
   },
   "outputs": [
    {
     "data": {
      "text/plain": [
       "[10.0,\n",
       " 19000,\n",
       " array([-129.23015537,   -9.91604201,  -37.6084486 ,  100.40265065]),\n",
       " 0.02770144878359389]"
      ]
     },
     "execution_count": 50,
     "metadata": {},
     "output_type": "execute_result"
    }
   ],
   "source": [
    " min"
   ]
  },
  {
   "cell_type": "code",
   "execution_count": 51,
   "id": "77733409",
   "metadata": {},
   "outputs": [
    {
     "data": {
      "text/plain": [
       "array([-129.23015537,   -9.91604201,  -37.6084486 ,  100.40265065])"
      ]
     },
     "execution_count": 51,
     "metadata": {},
     "output_type": "execute_result"
    }
   ],
   "source": [
    "W = min[2]\n",
    "W"
   ]
  },
  {
   "cell_type": "markdown",
   "id": "6c654aa0",
   "metadata": {},
   "source": [
    "**Ответ:** *eta = 10.0, iterations = 19000*"
   ]
  },
  {
   "cell_type": "markdown",
   "id": "b09ceda5",
   "metadata": {},
   "source": [
    "3. Создайте функцию calc_pred_proba, возвращающую предсказанную вероятность класса 1 (на вход подаются W, который уже посчитан функцией eval_model и X, на выходе - массив y_pred_proba).\n"
   ]
  },
  {
   "cell_type": "code",
   "execution_count": 52,
   "id": "c66af941",
   "metadata": {},
   "outputs": [],
   "source": [
    "def calc_pred_proba(W, X):\n",
    "    y_pred_proba = sigmoid(np.dot(W, X.T))\n",
    "    return y_pred_proba"
   ]
  },
  {
   "cell_type": "code",
   "execution_count": 53,
   "id": "00d5434a",
   "metadata": {},
   "outputs": [
    {
     "data": {
      "text/plain": [
       "array([1.29803391e-01, 2.73476706e-08, 1.00000000e+00, 3.79634074e-22,\n",
       "       9.93214586e-01, 2.37152895e-07, 1.00000000e+00, 1.25257985e-03,\n",
       "       8.78177728e-01, 1.00000000e+00])"
      ]
     },
     "execution_count": 53,
     "metadata": {},
     "output_type": "execute_result"
    }
   ],
   "source": [
    "y_pred_proba = calc_pred_proba(W, X_st)\n",
    "y_pred_proba"
   ]
  },
  {
   "cell_type": "markdown",
   "id": "99266a39",
   "metadata": {},
   "source": [
    "4. Создайте функцию calc_pred, возвращающую предсказанный класс (на вход подаются W, который уже посчитан функцией eval_model и X, на выходе - массив y_pred)."
   ]
  },
  {
   "cell_type": "code",
   "execution_count": 54,
   "id": "c4fb7e64",
   "metadata": {},
   "outputs": [],
   "source": [
    "def calc_pred(W, X, treshold=0.5):\n",
    "    y_pred = sigmoid(np.dot(W, X.T)) > treshold\n",
    "    return y_pred.astype(int)"
   ]
  },
  {
   "cell_type": "code",
   "execution_count": 55,
   "id": "6752c048",
   "metadata": {},
   "outputs": [
    {
     "data": {
      "text/plain": [
       "array([0, 0, 1, 0, 1, 0, 1, 0, 1, 1])"
      ]
     },
     "execution_count": 55,
     "metadata": {},
     "output_type": "execute_result"
    }
   ],
   "source": [
    "y_pred = calc_pred(W, X_st)\n",
    "y_pred"
   ]
  },
  {
   "cell_type": "markdown",
   "id": "7d85a255",
   "metadata": {},
   "source": [
    "**Вывод:** *удалось добиться вероятностей между 0 и 1. Метод верен.*"
   ]
  },
  {
   "cell_type": "markdown",
   "id": "a0607a09",
   "metadata": {},
   "source": [
    "5. *Реализуйте функции для подсчета Accuracy, матрицы ошибок, точности и полноты, а также F1 score."
   ]
  },
  {
   "cell_type": "code",
   "execution_count": 56,
   "id": "162733d5",
   "metadata": {},
   "outputs": [
    {
     "data": {
      "text/plain": [
       "1.0"
      ]
     },
     "execution_count": 56,
     "metadata": {},
     "output_type": "execute_result"
    }
   ],
   "source": [
    "def calc_accuracy(y, y_pred):\n",
    "    total_successes = sum(y_pred==y)\n",
    "    return total_successes/len(y)\n",
    "\n",
    "calc_accuracy(y, y_pred)"
   ]
  },
  {
   "cell_type": "code",
   "execution_count": 57,
   "id": "2942a464",
   "metadata": {},
   "outputs": [],
   "source": [
    "def calc_matrix(y, y_pred):\n",
    "    pairs = zip(y, y_pred)\n",
    "    \n",
    "    true_positive = 0\n",
    "    true_negative = 0\n",
    "    false_positive = 0\n",
    "    false_negative = 0\n",
    "    \n",
    "    for origin, pred in pairs:\n",
    "        if pred and origin:\n",
    "            true_positive+= 1\n",
    "        elif pred and not origin:\n",
    "            false_negative += 1\n",
    "        elif origin and not pred:\n",
    "            false_positive += 1\n",
    "        else:\n",
    "            true_negative +=1\n",
    "\n",
    "    return true_positive, true_negative, false_positive, false_negative"
   ]
  },
  {
   "cell_type": "code",
   "execution_count": 58,
   "id": "d3bdd820",
   "metadata": {},
   "outputs": [],
   "source": [
    "def calc_recall(matrix):\n",
    "    true_positive = matrix[0]\n",
    "    false_negative = matrix[3]\n",
    "\n",
    "    return true_positive / (true_positive + false_negative)\n",
    "\n",
    "def calc_precision(matrix):\n",
    "    true_positive = matrix[0]\n",
    "    false_positive = matrix[2]\n",
    "\n",
    "    return true_positive / (true_positive + false_positive)\n",
    "\n",
    "def calc_f_score(precision, recall):\n",
    "    return 2 * recall * precision  / (recall + precision)"
   ]
  },
  {
   "cell_type": "code",
   "execution_count": 59,
   "id": "08892a9a",
   "metadata": {},
   "outputs": [
    {
     "data": {
      "text/plain": [
       "(5, 5, 0, 0)"
      ]
     },
     "execution_count": 59,
     "metadata": {},
     "output_type": "execute_result"
    }
   ],
   "source": [
    "matrix = calc_matrix(y, y_pred)\n",
    "matrix"
   ]
  },
  {
   "cell_type": "code",
   "execution_count": 60,
   "id": "5938d7c1",
   "metadata": {},
   "outputs": [
    {
     "data": {
      "text/plain": [
       "1.0"
      ]
     },
     "execution_count": 60,
     "metadata": {},
     "output_type": "execute_result"
    }
   ],
   "source": [
    "recall = calc_recall(matrix)\n",
    "recall"
   ]
  },
  {
   "cell_type": "code",
   "execution_count": 61,
   "id": "ea525058",
   "metadata": {},
   "outputs": [
    {
     "data": {
      "text/plain": [
       "1.0"
      ]
     },
     "execution_count": 61,
     "metadata": {},
     "output_type": "execute_result"
    }
   ],
   "source": [
    "precision = calc_precision(matrix)\n",
    "precision"
   ]
  },
  {
   "cell_type": "code",
   "execution_count": 62,
   "id": "86ee8771",
   "metadata": {
    "scrolled": true
   },
   "outputs": [
    {
     "data": {
      "text/plain": [
       "1.0"
      ]
     },
     "execution_count": 62,
     "metadata": {},
     "output_type": "execute_result"
    }
   ],
   "source": [
    "calc_f_score(precision, recall)"
   ]
  },
  {
   "cell_type": "markdown",
   "id": "c188535f",
   "metadata": {},
   "source": [
    "6. Могла ли модель переобучиться? Почему?\n",
    "\n",
    "**Ответ:** *могла! - очень мало данных. Модель становится слишком сложной, чтобы обобщить тренировочные данные и начинает \"запоминать\" их вместо извлечения общих закономерностей.*"
   ]
  }
 ],
 "metadata": {
  "kernelspec": {
   "display_name": "Python 3 (ipykernel)",
   "language": "python",
   "name": "python3"
  },
  "language_info": {
   "codemirror_mode": {
    "name": "ipython",
    "version": 3
   },
   "file_extension": ".py",
   "mimetype": "text/x-python",
   "name": "python",
   "nbconvert_exporter": "python",
   "pygments_lexer": "ipython3",
   "version": "3.10.5"
  }
 },
 "nbformat": 4,
 "nbformat_minor": 5
}
