{
 "cells": [
  {
   "cell_type": "markdown",
   "id": "287687c8",
   "metadata": {},
   "source": [
    "### Урок 7. Классификация с помощью KNN. Кластеризация K-means"
   ]
  },
  {
   "cell_type": "markdown",
   "id": "8720250a",
   "metadata": {},
   "source": [
    "#### Домашнее задание"
   ]
  },
  {
   "cell_type": "markdown",
   "id": "bb6b80e7",
   "metadata": {},
   "source": [
    "1. К алгоритму kNN, реализованному на уроке, реализовать добавление весов для соседей по любому из показанных на уроке принципов."
   ]
  },
  {
   "cell_type": "code",
   "execution_count": 1,
   "id": "d263ac84",
   "metadata": {},
   "outputs": [],
   "source": [
    "import numpy as np\n",
    "from sklearn.model_selection import train_test_split\n",
    "from sklearn.datasets import load_iris\n",
    "import matplotlib.pyplot as plt\n",
    "from matplotlib.colors import ListedColormap"
   ]
  },
  {
   "cell_type": "code",
   "execution_count": 2,
   "id": "f72840c6",
   "metadata": {},
   "outputs": [],
   "source": [
    "import warnings\n",
    "warnings.filterwarnings('ignore')"
   ]
  },
  {
   "cell_type": "markdown",
   "id": "2fb44a02",
   "metadata": {},
   "source": [
    "Загрузим один из \"игрушечных\" датасетов из sklearn."
   ]
  },
  {
   "cell_type": "code",
   "execution_count": 3,
   "id": "53f3da7d",
   "metadata": {},
   "outputs": [],
   "source": [
    "X, y = load_iris(return_X_y=True)\n",
    "\n",
    "# Для наглядности возьмем только первые два признака (всего в датасете их 4)\n",
    "X = X[:, :2]"
   ]
  },
  {
   "cell_type": "markdown",
   "id": "a2c13636",
   "metadata": {},
   "source": [
    "Разделим выборку на обучающую и тестовую"
   ]
  },
  {
   "cell_type": "code",
   "execution_count": 4,
   "id": "64105dee",
   "metadata": {},
   "outputs": [],
   "source": [
    "X_train, X_test, y_train, y_test = train_test_split(X, y,\n",
    "                                                    test_size=0.2,\n",
    "                                                    random_state=1,\n",
    "                                                    stratify=y)"
   ]
  },
  {
   "cell_type": "code",
   "execution_count": 5,
   "id": "644c21ef",
   "metadata": {},
   "outputs": [
    {
     "data": {
      "image/png": "[encoded data removed]",
      "text/plain": [
       "<Figure size 504x504 with 1 Axes>"
      ]
     },
     "metadata": {
      "needs_background": "light"
     },
     "output_type": "display_data"
    }
   ],
   "source": [
    "cmap = ListedColormap(['red', 'green', 'blue'])\n",
    "plt.figure(figsize=(7, 7))\n",
    "plt.scatter(X[:, 0], X[:, 1], c=y, cmap=cmap);"
   ]
  },
  {
   "cell_type": "markdown",
   "id": "4b9d8adf",
   "metadata": {},
   "source": [
    "Используем евклидову метрику. Реализуем функцию для ее подсчета."
   ]
  },
  {
   "cell_type": "code",
   "execution_count": 6,
   "id": "2220648f",
   "metadata": {},
   "outputs": [],
   "source": [
    "def e_metrics(x1, x2):\n",
    "    \n",
    "    distance = 0\n",
    "    for i in range(len(x1)):\n",
    "        distance += np.square(x1[i] - x2[i])\n",
    "        \n",
    "    distance = np.sum(np.square(x1 - x2))\n",
    "\n",
    "    return np.sqrt(distance)"
   ]
  },
  {
   "cell_type": "markdown",
   "id": "b72f49b2",
   "metadata": {},
   "source": [
    "Реализуем алгоритм поиска k ближайших соседей."
   ]
  },
  {
   "cell_type": "code",
   "execution_count": 7,
   "id": "de56c7b0",
   "metadata": {},
   "outputs": [],
   "source": [
    "def knn(x_train, y_train, x_test, k):\n",
    "    \n",
    "    answers = []\n",
    "    for x in x_test:\n",
    "        test_distances = []\n",
    "            \n",
    "        for i in range(len(x_train)):\n",
    "            \n",
    "            # расчет расстояния от классифицируемого объекта до\n",
    "            # объекта обучающей выборки\n",
    "            distance = e_metrics(x, x_train[i])\n",
    "            \n",
    "            # Записываем в список значение расстояния и ответа на объекте обучающей выборки\n",
    "            test_distances.append((distance, y_train[i]))\n",
    "        \n",
    "        # создаем словарь со всеми возможными классами\n",
    "        classes = {class_item: 0 for class_item in set(y_train)}\n",
    "        \n",
    "        # ИЗМЕНЕНО\n",
    "        dots = np.linspace(1, k, k)\n",
    "        q = 0.25\n",
    "        value = list(map(lambda x: q ** x, dots))\n",
    "        i = 0\n",
    "        \n",
    "        # Сортируем список и среди первых k элементов подсчитаем частоту появления разных классов\n",
    "        for d in sorted(test_distances)[0:k]:\n",
    "            # ИЗМЕНЕНО\n",
    "            classes[d[1]] += value[i]\n",
    "            i += 1\n",
    "\n",
    "        # Записываем в список ответов наиболее часто встречающийся класс\n",
    "        answers.append(sorted(classes, key=classes.get)[-1])\n",
    "        \n",
    "    return answers"
   ]
  },
  {
   "cell_type": "markdown",
   "id": "db4ae36c",
   "metadata": {},
   "source": [
    "Напишем функцию для вычисления точности"
   ]
  },
  {
   "cell_type": "code",
   "execution_count": 8,
   "id": "8d3eeecf",
   "metadata": {},
   "outputs": [],
   "source": [
    "def accuracy(pred, y):\n",
    "    return (sum(pred == y) / len(y))"
   ]
  },
  {
   "cell_type": "markdown",
   "id": "5e19ae1b",
   "metadata": {},
   "source": [
    "Проверим работу алгоритма при различных k"
   ]
  },
  {
   "cell_type": "code",
   "execution_count": 9,
   "id": "ed2d3428",
   "metadata": {},
   "outputs": [
    {
     "name": "stdout",
     "output_type": "stream",
     "text": [
      "Точность алгоритма при k = 2: 0.700\n"
     ]
    }
   ],
   "source": [
    "k = 2\n",
    "\n",
    "y_pred = knn(X_train, y_train, X_test, k)\n",
    "\n",
    "print(f'Точность алгоритма при k = {k}: {accuracy(y_pred, y_test):.3f}')"
   ]
  },
  {
   "cell_type": "markdown",
   "id": "6538fcb9",
   "metadata": {},
   "source": [
    "Построим график распределения классов."
   ]
  },
  {
   "cell_type": "code",
   "execution_count": 10,
   "id": "c7ed63e0",
   "metadata": {},
   "outputs": [],
   "source": [
    "def get_graph(X_train, y_train, k):\n",
    "    cmap_light = ListedColormap(['#FFAAAA', '#AAFFAA','#00AAFF'])\n",
    "\n",
    "    h = .02\n",
    "\n",
    "    # Расчет пределов графика\n",
    "    x_min, x_max = X_train[:, 0].min() - 1, X_train[:, 0].max() + 1\n",
    "    y_min, y_max = X_train[:, 1].min() - 1, X_train[:, 1].max() + 1\n",
    "    xx, yy = np.meshgrid(np.arange(x_min, x_max, h), np.arange(y_min, y_max, h))\n",
    "    print(np.c_[xx.ravel(), yy.ravel()].shape)\n",
    "\n",
    "    # Получим предсказания для всех точек\n",
    "    Z = knn(X_train, y_train, np.c_[xx.ravel(), yy.ravel()], k)\n",
    "    # Построим график\n",
    "    Z = np.array(Z).reshape(xx.shape)\n",
    "    plt.figure(figsize=(7,7))\n",
    "    plt.pcolormesh(xx, yy, Z, cmap=cmap_light)\n",
    "\n",
    "    # Добавим на график обучающую выборку\n",
    "    plt.scatter(X_train[:, 0], X_train[:, 1], c=y_train, cmap=cmap)\n",
    "    plt.xlim(xx.min(), xx.max())\n",
    "    plt.ylim(yy.min(), yy.max())\n",
    "    plt.title(f\"Трехклассовая kNN классификация при k = {k}\")\n",
    "    plt.show()"
   ]
  },
  {
   "cell_type": "code",
   "execution_count": 11,
   "id": "c69ab2df",
   "metadata": {},
   "outputs": [
    {
     "name": "stdout",
     "output_type": "stream",
     "text": [
      "(58800, 2)\n"
     ]
    },
    {
     "data": {
      "image/png": "[encoded data removed]",
      "text/plain": [
       "<Figure size 504x504 with 1 Axes>"
      ]
     },
     "metadata": {
      "needs_background": "light"
     },
     "output_type": "display_data"
    },
    {
     "name": "stdout",
     "output_type": "stream",
     "text": [
      "CPU times: total: 7min 44s\n",
      "Wall time: 7min 48s\n"
     ]
    }
   ],
   "source": [
    "%%time\n",
    "get_graph(X_train, y_train, k)"
   ]
  },
  {
   "cell_type": "markdown",
   "id": "210c733b",
   "metadata": {},
   "source": [
    "2. *Написать функцию подсчета метрики качества кластеризации как среднее квадратичное внутрикластерное расстояние и построить график ее зависимости от количества кластеров k (взять от 1 до 10) для выборки данных из данного урока (создать датасет, как в методичке)."
   ]
  },
  {
   "cell_type": "code",
   "execution_count": 12,
   "id": "dc57baf7",
   "metadata": {},
   "outputs": [],
   "source": [
    "def kmeans(data, k, max_iterations, min_distance):    \n",
    "    # инициализируем центроиды как первые k элементов датасета\n",
    "    centroids = [data[i] for i in range(k)]\n",
    "    \n",
    "    for _ in range(max_iterations):\n",
    "        # Создадим словарь для классификации\n",
    "        classes = {i: [] for i in range(k)}\n",
    "        \n",
    "        # классифицируем объекты по центроидам\n",
    "        for x in data:\n",
    "            # определим расстояния от объекта до каждого центроида\n",
    "            distances = [e_metrics(x, centroid) for centroid in centroids]\n",
    "            # отнесем объект к кластеру, до центроида которого наименьшее расстояние\n",
    "            cluster = distances.index(min(distances))\n",
    "            classes[cluster].append(x)\n",
    "        \n",
    "        # сохраним предыдущие центроиды в отдельный список для последующего сравнения сновыми\n",
    "        old_centroids = centroids.copy()\n",
    "        \n",
    "        # пересчитаем центроиды как среднее по кластерам\n",
    "        for cluster in classes:\n",
    "            centroids[cluster] = np.average(classes[cluster], axis=0)\n",
    "            \n",
    "        # сравним величину смещения центроидов с минимальной\n",
    "        optimal = True\n",
    "        for centroid in range(len(centroids)):\n",
    "            # ИЗМЕНЕНО\n",
    "            if np.linalg.norm(centroids[centroid] - old_centroids[centroid], ord=2) > min_distance:\n",
    "                optimal = False\n",
    "                break\n",
    "                \n",
    "        # если все смещения меньше минимального, останавливаем алгоритм  \n",
    "        if optimal:\n",
    "            break\n",
    "    \n",
    "    return old_centroids, classes"
   ]
  },
  {
   "cell_type": "code",
   "execution_count": 13,
   "id": "63efbeaa",
   "metadata": {},
   "outputs": [],
   "source": [
    "def mean_sq_inclass_dist(centroids, clusters):\n",
    "    inclass_distances = {}\n",
    "    sum_inclass_distances = 0\n",
    "    for key in clusters:\n",
    "        sq_distance = 0\n",
    "        for value in clusters[key]:\n",
    "            distance = e_metrics(value, centroids[key])\n",
    "            sq_distance += distance**2\n",
    "        inclass_distances[key] = sq_distance/len(clusters[key])\n",
    "        sum_inclass_distances += inclass_distances[key]\n",
    "    mean_distance = sum_inclass_distances/len(inclass_distances)\n",
    "    return inclass_distances, mean_distance"
   ]
  },
  {
   "cell_type": "code",
   "execution_count": 14,
   "id": "d6bbba88",
   "metadata": {},
   "outputs": [],
   "source": [
    "# определим максимальное количество итераций\n",
    "max_iterations = 1\n",
    "\n",
    "# и минимальное расстояние между центроидами до пересчета и после него, при котором нужно остановить алгоритм\n",
    "min_distance = 1e-4\n",
    "\n",
    "x = np.arange(1, 11)\n",
    "y = []\n",
    "for k in x:\n",
    "    centroids, clusters = kmeans(X, k, max_iterations, min_distance)\n",
    "    inclass_distances, mean_distance = mean_sq_inclass_dist(centroids, clusters)\n",
    "    y.append(mean_distance)"
   ]
  },
  {
   "cell_type": "code",
   "execution_count": 15,
   "id": "15b8c7bd",
   "metadata": {},
   "outputs": [
    {
     "data": {
      "image/png": "[encoded data removed]",
      "text/plain": [
       "<Figure size 432x288 with 1 Axes>"
      ]
     },
     "metadata": {
      "needs_background": "light"
     },
     "output_type": "display_data"
    }
   ],
   "source": [
    "fig, ax = plt.subplots()\n",
    "ax.plot(x, y, linestyle = '-', linewidth = 2, color = 'b', label='Avg class distance')\n",
    "ax.legend();"
   ]
  },
  {
   "cell_type": "markdown",
   "id": "f5ebb02a",
   "metadata": {},
   "source": [
    "3. *Оптимизировать код для KNN (оставить один цикл, либо обойтись без циклов вообще)."
   ]
  },
  {
   "cell_type": "code",
   "execution_count": 16,
   "id": "c73d99ac",
   "metadata": {},
   "outputs": [],
   "source": [
    "def knn(x_train, y_train, x_test, k):\n",
    "    \n",
    "    answers = []\n",
    "    for x in x_test:\n",
    "        test_distances = []\n",
    "            \n",
    "        for i in range(len(x_train)):\n",
    "            \n",
    "            # расчет расстояния от классифицируемого объекта до\n",
    "            # объекта обучающей выборки\n",
    "            distance = e_metrics(x, x_train[i])\n",
    "            \n",
    "            # Записываем в список значение расстояния и ответа на объекте обучающей выборки\n",
    "            test_distances.append((distance, y_train[i]))\n",
    "            \n",
    "        # создаем словарь со всеми возможными классами\n",
    "        classes = {class_item: 0 for class_item in set(y_train)}\n",
    "        \n",
    "        # Сортируем список и среди первых k элементов подсчитаем частоту появления разных классов\n",
    "        for d in sorted(test_distances)[0:k]:\n",
    "            classes[d[1]] += 1\n",
    "            \n",
    "        # Записываем в список ответов наиболее часто встречающийся класс\n",
    "        answers.append(sorted(classes, key=classes.get)[-1])\n",
    "        \n",
    "    return answers"
   ]
  },
  {
   "cell_type": "code",
   "execution_count": 17,
   "id": "4326a8c0",
   "metadata": {},
   "outputs": [
    {
     "name": "stdout",
     "output_type": "stream",
     "text": [
      "Точность алгоритма при k = 4: 0.700\n",
      "CPU times: total: 22.6 s\n",
      "Wall time: 23.1 s\n"
     ]
    }
   ],
   "source": [
    "%%time\n",
    "k = 4\n",
    "n = 100\n",
    "for i in range(n):\n",
    "    y_pred = knn(X_train, y_train, X_test, k)\n",
    "\n",
    "print(f'Точность алгоритма при k = {k}: {accuracy(y_pred, y_test):.3f}')"
   ]
  },
  {
   "cell_type": "code",
   "execution_count": 18,
   "id": "ede7ac5d",
   "metadata": {},
   "outputs": [],
   "source": [
    "def e_metrics_axis(x1, x2, axis=1):\n",
    "    \n",
    "    distance = np.sum(np.square(x1 - x2), axis=axis) # axis для суммы внутри строк\n",
    "\n",
    "    return np.sqrt(distance)"
   ]
  },
  {
   "cell_type": "code",
   "execution_count": 19,
   "id": "fa364a57",
   "metadata": {},
   "outputs": [],
   "source": [
    "np.set_printoptions(precision=50)\n",
    "\n",
    "def knn_optimized(x_train, y_train, x_test, k):\n",
    "    \n",
    "    answers = []\n",
    "    for x in x_test:\n",
    "        distances = e_metrics_axis(x, x_train) # Расчёт всех расстояний через векторную операцию\n",
    "        test_distances = np.array((distances, y_train)).T # Двумерный массив вида [[расстояние, класс]]\n",
    "            \n",
    "        classes = test_distances[test_distances[:, 0].argsort()][:k] # Сортироворка numpy массива по первому столбцу\n",
    "        sums_by_class = np.bincount(classes[:, 1].astype(int), weights=classes[:, 0]) # Подсчёт весов по классам\n",
    "        \n",
    "        max_class = sums_by_class.argmax() # Индекс элемента с максимальным весом\n",
    "            \n",
    "        # Записываем в список ответов наиболее часто встречающийся класс\n",
    "        answers.append(max_class)\n",
    "        \n",
    "    return answers"
   ]
  },
  {
   "cell_type": "code",
   "execution_count": 20,
   "id": "a17eaf3d",
   "metadata": {},
   "outputs": [
    {
     "name": "stdout",
     "output_type": "stream",
     "text": [
      "Точность алгоритма при k = 4: 0.700\n",
      "CPU times: total: 500 ms\n",
      "Wall time: 553 ms\n"
     ]
    }
   ],
   "source": [
    "%%time\n",
    "k = 4\n",
    "n = 100\n",
    "for i in range(n):\n",
    "    y_pred = knn_optimized(X_train, y_train, X_test, k)\n",
    "\n",
    "print(f'Точность алгоритма при k = {k}: {accuracy(y_pred, y_test):.3f}')"
   ]
  },
  {
   "cell_type": "code",
   "execution_count": 40,
   "id": "b1cd8fa5",
   "metadata": {},
   "outputs": [
    {
     "name": "stdout",
     "output_type": "stream",
     "text": [
      "Скорость расчёта больше примерно в 42.0 раза\n"
     ]
    }
   ],
   "source": [
    "if np.round(23.1*1000/553) > 0:\n",
    "    print('Скорость расчёта больше примерно в', (np.round(23.1*1000/553)), 'раза')\n",
    "else: False"
   ]
  }
 ],
 "metadata": {
  "kernelspec": {
   "display_name": "Python 3 (ipykernel)",
   "language": "python",
   "name": "python3"
  },
  "language_info": {
   "codemirror_mode": {
    "name": "ipython",
    "version": 3
   },
   "file_extension": ".py",
   "mimetype": "text/x-python",
   "name": "python",
   "nbconvert_exporter": "python",
   "pygments_lexer": "ipython3",
   "version": "3.10.5"
  }
 },
 "nbformat": 4,
 "nbformat_minor": 5
}
